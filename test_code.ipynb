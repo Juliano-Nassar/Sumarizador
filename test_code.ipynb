{
 "cells": [
  {
   "cell_type": "code",
   "execution_count": 1,
   "metadata": {},
   "outputs": [],
   "source": [
    "from pathlib import Path\n",
    "from nltk.tokenize import word_tokenize, sent_tokenize\n",
    "from itertools import chain\n",
    "import numpy as np\n",
    "\n",
    "import Methods.summarizer as summarizer"
   ]
  },
  {
   "cell_type": "code",
   "execution_count": 10,
   "metadata": {
    "tags": []
   },
   "outputs": [],
   "source": [
    "# Get business news\n",
    "i = 1\n",
    "data = []\n",
    "home_PATH = Path.cwd()\n",
    "while i < 500:\n",
    "    if i <10:\n",
    "        text_file_name = \"00\"+str(i)+\".txt\"\n",
    "    elif i >=10 and i<100:\n",
    "        text_file_name = \"0\"+str(i)+\".txt\"\n",
    "    else:\n",
    "        text_file_name = str(i)+\".txt\"\n",
    "    #print(text_file_name)\n",
    "    news_ex_0_PATH = Path(home_PATH,\"Data\",\"BBC News Summary\",\"News Articles\",\"business\",text_file_name)\n",
    "    with open(news_ex_0_PATH, 'r') as file:\n",
    "        data.append(file.read().replace('\\n', ' '))\n",
    "    \n",
    "    i+=1"
   ]
  },
  {
   "cell_type": "code",
   "execution_count": 11,
   "metadata": {},
   "outputs": [
    {
     "data": {
      "text/plain": [
       "499"
      ]
     },
     "execution_count": 11,
     "metadata": {},
     "output_type": "execute_result"
    }
   ],
   "source": [
    "len(data)"
   ]
  },
  {
   "cell_type": "code",
   "execution_count": 7,
   "metadata": {},
   "outputs": [],
   "source": [
    "text = data[14]\n",
    "summary = summarizer.summarize(text,5)"
   ]
  },
  {
   "cell_type": "code",
   "execution_count": 8,
   "metadata": {},
   "outputs": [
    {
     "name": "stdout",
     "output_type": "stream",
     "text": [
      "`` We reckon it 's going to cost European air passengers - not the airlines , the airlines have no money , it has to be paid by passengers - 1.5bn euros , that 's over Â£1bn a year loaded onto European passengers , '' Mr Clarke said .\n",
      "================================================================================\n",
      "The European Commission is facing two legal challenges - one from the European Low-fare Airlines Association ( ELAA ) and the other from the International Air Transport Association ( IATA ) , which has attacked the package as a `` bad piece of legislation '' .\n",
      "================================================================================\n",
      "EC spokeswoman Marja Quillinan-Meiland conceded there were `` grey areas '' but said `` these are not as big as the airlines are making out '' .\n",
      "================================================================================\n",
      "Andy Clarke , ERAA director of air transport , said that the EC advice misleads customers as it leads them to believe that airlines could be liable for payouts if flights are delayed because of bad weather .\n",
      "================================================================================\n",
      "`` It 's a preposterous piece of legislation , we among all airlines are fighting this , '' Ryanair deputy chief executive Michael Cawley told Radio 4 's Today programme .\n",
      "================================================================================\n"
     ]
    }
   ],
   "source": [
    "print(summary)"
   ]
  },
  {
   "cell_type": "code",
   "execution_count": 12,
   "metadata": {},
   "outputs": [
    {
     "name": "stdout",
     "output_type": "stream",
     "text": [
      "Air passengers win new EU rights  Air passengers who are unable to board their flights because of overbooking, cancellations or flight delays can now demand greater compensation.  New EU rules set compensation at between 250 euros (Â£173) and 600 euros, depending on the length of the flight. The new rules will apply to all scheduled and charter flights, including budget airlines. Airlines have attacked the legislation saying they could be forced to push prices higher to cover the extra cost. The European Commission is facing two legal challenges - one from the European Low-fare Airlines Association (ELAA) and the other from the International Air Transport Association (IATA), which has attacked the package as a \"bad piece of legislation\". Previously, passengers could claim between 150 euros and 300 euros if they had been stopped from boarding.  However, only scheduled flight operators were obliged to offer compensation in cases of overbooking and they did not have to offer compensation for flight cancellations.  The EU decided to increase passenger compensation in a bid to deter airlines from deliberately overbooking flights. Overbooking can often lead to 'bumping' - when a passenger is moved to a later flight. When this happens against a passenger's will, airlines will now have to offer compensation. In addition, if a flight is cancelled or delayed for more than two hours through the fault of the airline, all passengers must be paid compensation.  However, airlines do not have to offer compensation if flights are cancelled or delayed due to \"extraordinary circumstances\". Airlines fear that \"extraordinary circumstances\" may not include bad weather, security alerts or strikes - events which are outside of their control. All EU-based airlines and operators of flights which take off from the EU will have to adhere to the new compensation regime which came into force on Thursday. Low-cost airlines have criticised the new compensation levels, arguing that the pay-out could be worth more than the ticket. \"It's a preposterous piece of legislation, we among all airlines are fighting this,\" Ryanair deputy chief executive Michael Cawley told Radio 4's Today programme.  The European Regions Airline Association (ERAA) claims that neither airlines nor consumers were consulted over the changes. Andy Clarke, ERAA director of air transport, said that the EC advice misleads customers as it leads them to believe that airlines could be liable for payouts if flights are delayed because of bad weather.  EC spokeswoman Marja Quillinan-Meiland conceded there were \"grey areas\" but said \"these are not as big as the airlines are making out\". In cases of dispute, national enforcement bodies would decide whether the passenger had a case, she said. New technology means it is easier for airlines to take off and land in bad weather, she added. The ERAA's Mr Clarke also warned that while airlines would comply with the new rules, the extra costs would be passed onto passengers. \"We reckon it's going to cost European air passengers - not the airlines, the airlines have no money, it has to be paid by passengers - 1.5bn euros, that's over Â£1bn a year loaded onto European passengers,\" Mr Clarke said. \"That's basically a transfer of money from passengers whose journeys are not disrupted to passengers whose journeys are disrupted.\"  On Wednesday, Jacques Barrot, vice president of the European Commission and also Commissioner for Transport, said that the changes were necessary. \"The boom in air travel needs to be accompanied by proper protection of passengers' right.\" \"This is a concrete example of how the Union benefits people's daily lives,\" he added. The EC has launched an information campaign in airports and travel agencies to inform airline passengers of their new rights. \n"
     ]
    }
   ],
   "source": [
    "print(text)"
   ]
  },
  {
   "cell_type": "code",
   "execution_count": null,
   "metadata": {},
   "outputs": [],
   "source": []
  }
 ],
 "metadata": {
  "kernelspec": {
   "display_name": "Python 3",
   "language": "python",
   "name": "python3"
  },
  "language_info": {
   "codemirror_mode": {
    "name": "ipython",
    "version": 3
   },
   "file_extension": ".py",
   "mimetype": "text/x-python",
   "name": "python",
   "nbconvert_exporter": "python",
   "pygments_lexer": "ipython3",
   "version": "3.8.3"
  }
 },
 "nbformat": 4,
 "nbformat_minor": 5
}
